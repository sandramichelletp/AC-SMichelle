{
 "cells": [
  {
   "cell_type": "markdown",
   "id": "74f6113f",
   "metadata": {},
   "source": [
    "# Ejercicio 4: Derivacion e integracion\n",
    "\n",
    "\n",
    "Derivacion\n",
    "\n",
    "1. Escribe una funcion que reciba como argumento otra funcion y un numero real y que evalue la derivada de esa funcion en el punto dado sin utilizar ninguna librerıa externa de Julia, el resultado debe ser otro numero real.\n",
    "\n",
    "Prueba tu implementacion con los siguientes valores: f(x) = cos(x) en el punto x = 2, el resultado deberıa aproximarse a −0.909297... (**3 puntos**).\n",
    "\n",
    "\n",
    "**Analisis**\n",
    "\n",
    "Nos dice que definamos una función donde en su argumento podamos poner otra función -en este caso, para probarlo, un función coseno y un número real, considerando a uno de tipo Float para este caso ya que estos consideran los residuos de los numeros- y que después de ingresar eso nos dé su derivada, que en este caso debe ser el menos seno de la función.\n",
    "\n",
    "Lo primero que pensamos en como hacer la función que tome como parámetro otra; para eso, dentro de los parametros de una funcion principal se coloca la función que va a considerar como tal y el valor real \"x\".\n",
    "\n",
    "Para que nos regrese una derivada podemos ocupar la fórmula que es para esta misma, la cual es `f(x+h) - f(x)/h`. Como \"h\" que es cualquier otro número en la fórmula tendiendo a cero, podemos tomarla como un parámetro para  la función principal."
   ]
  },
  {
   "cell_type": "code",
   "execution_count": 4,
   "id": "da2b01bd",
   "metadata": {},
   "outputs": [
    {
     "data": {
      "text/plain": [
       "FuncionP_derivar (generic function with 2 methods)"
      ]
     },
     "execution_count": 4,
     "metadata": {},
     "output_type": "execute_result"
    }
   ],
   "source": [
    "function FuncionP_derivar(f::Function , x::Float64, h::Float64 = 0.0000001) #Se definen los parametros para la funcion principal.\n",
    "    return (f(x+h) - f(x))/ h  #Colocamos la salida que es la derivada general.\n",
    " \n",
    "end\n"
   ]
  },
  {
   "cell_type": "code",
   "execution_count": 5,
   "id": "827b3062",
   "metadata": {},
   "outputs": [
    {
     "data": {
      "text/plain": [
       "-0.9092974045943336"
      ]
     },
     "execution_count": 5,
     "metadata": {},
     "output_type": "execute_result"
    }
   ],
   "source": [
    "f(x)= cos(x) #Colocamos la funcion principal 'FuncionP_derivar' para comprovar con la funcion que nos indica.\n",
    "\n",
    "      x = 2.0    #colocamos el valor donde -sen de el resultado que nos pide, que despues de tantear resulta en ser 2.\n",
    "\n",
    "FuncionP_derivar(f,x)    "
   ]
  },
  {
   "cell_type": "markdown",
   "id": "00b62137",
   "metadata": {},
   "source": [
    "<font color='orange'>La solución es buena, pero hay que trabajar ortografía y redacción fuera de clase para comunicar resultados de forma efectiva. Corregí un poco para darles una idea, porque como estaba inicialmente era difícil de leer. Sugiero que investiguen y corrijan la redacción de los demás <i>notebooks</i> para practicar. También les hubiera agradecido que entregaran todos los incisos del <b>Ejercicio 4</b> que haya solucionado con Jupyter en un solo <i>notebook</i> de Jupyter para facilitar la lectura y calificada, y no dejaran <i>notebooks</i> duplicados en el repositorio, que pueden confundir. <b>(3/3 puntos)</b></font>"
   ]
  }
 ],
 "metadata": {
  "kernelspec": {
   "display_name": "Julia 1.9.1",
   "language": "julia",
   "name": "julia-1.9"
  },
  "language_info": {
   "file_extension": ".jl",
   "mimetype": "application/julia",
   "name": "julia",
   "version": "1.9.1"
  }
 },
 "nbformat": 4,
 "nbformat_minor": 5
}
