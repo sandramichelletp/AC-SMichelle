{
 "cells": [
  {
   "cell_type": "markdown",
   "id": "e41d2603",
   "metadata": {},
   "source": [
    "3. Anade otra condicion a la funcion del punto 1 que imprima un mensaje de error cuando la funcion no es derivable en ese punto. Prueba tu codigo con la funcio ́n f(x) = log(x) en los puntos x = 0 y x = 1 (1 punto).\n",
    "\n",
    "**Analisis**\n",
    "Si ya conseguimos en el punto numero uno que el codigo nos de una derivada ahora hay que ver que cuando no la tenga nos de un mensaje de error, cuando pasaba esto en la `FuncionP_derivar` si no era deribable salia una salida de indefinido, por lo que tenemos que poner que salga un mensaje de error  si no se cumple con ser derivable y ya que esta es una condicion podemos poner usar if y else.\n",
    "\n"
   ]
  },
  {
   "cell_type": "code",
   "execution_count": 9,
   "id": "0205880a",
   "metadata": {},
   "outputs": [
    {
     "data": {
      "text/plain": [
       "deri_o (generic function with 2 methods)"
      ]
     },
     "execution_count": 9,
     "metadata": {},
     "output_type": "execute_result"
    }
   ],
   "source": [
    "function deri_o(o, p , h = 0.000001)  #Se definen los parametros para la funcion principal.\n",
    "    \n",
    "       if  (o(p+h) - o(p))/ h == Inf  #estamos diciendo que si al derivar el resultado esindefinido nos regrese un mensaje de error.\n",
    "         return println(\"error\")\n",
    "\n",
    "    else \n",
    "         return (o(p+h) - o(p))/ h # y en el caso de que no se inf nos de la derivada.\n",
    "        \n",
    "    end\n",
    "        \n",
    "   \n",
    "end\n",
    "\n"
   ]
  },
  {
   "cell_type": "code",
   "execution_count": 10,
   "id": "4eb209b0",
   "metadata": {},
   "outputs": [
    {
     "data": {
      "text/plain": [
       "NaN"
      ]
     },
     "execution_count": 10,
     "metadata": {},
     "output_type": "execute_result"
    }
   ],
   "source": [
    "o(x) = log(p)\n",
    "  \n",
    "p = 0.0\n",
    "\n",
    "deri_o(o,p)"
   ]
  },
  {
   "cell_type": "code",
   "execution_count": 6,
   "id": "061d5602",
   "metadata": {},
   "outputs": [
    {
     "data": {
      "text/plain": [
       "0.0"
      ]
     },
     "execution_count": 6,
     "metadata": {},
     "output_type": "execute_result"
    }
   ],
   "source": [
    "o(x) = log(p)\n",
    "  \n",
    "p = 1.0\n",
    "\n",
    "deri_o(o,p)"
   ]
  },
  {
   "cell_type": "markdown",
   "id": "94a23367",
   "metadata": {},
   "source": [
    "<font color='orange'>Bien. Otra manera más sofisticada de hacer esto es usando las <i>keywords</i> de Julia <b><code>try</b></code> y <b><code>catch</b></code>, como se describe en <a href=\"https://docs.julialang.org/en/v1/manual/control-flow/#Exception-Handling\">esta liga</a>. <b>(1/1 punto)</b></font>"
   ]
  }
 ],
 "metadata": {
  "kernelspec": {
   "display_name": "Julia 1.9.1",
   "language": "julia",
   "name": "julia-1.9"
  },
  "language_info": {
   "file_extension": ".jl",
   "mimetype": "application/julia",
   "name": "julia",
   "version": "1.9.1"
  }
 },
 "nbformat": 4,
 "nbformat_minor": 5
}
