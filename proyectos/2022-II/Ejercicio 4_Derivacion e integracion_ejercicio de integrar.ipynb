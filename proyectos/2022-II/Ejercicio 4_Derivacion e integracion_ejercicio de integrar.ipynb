{
 "cells": [
  {
   "cell_type": "markdown",
   "id": "024e82c7",
   "metadata": {},
   "source": [
    "Integracion \n",
    "1. Escribe la funcion integrar con las siguientes caracterısticas:\n",
    "....\n",
    "\n",
    "Prueba tu implementacion con los siguientes valores: f(x) = cos(x) en el intervalo [0,π], el resultado deberıa aproximarse a 0 (3 puntos).\n",
    "\n",
    "**Analisis**\n",
    "\n",
    "Si nos pide definir una funcion que relacione los limites de la funcion con precision que es n, entonces para sacar por asi decirlo el dominio donde se va a trabajar nos conviene dividir la diferencia de los limites entre la presicion, esto siguiendonos de la regla de valor intermedio compuesto, en adicion se puede decir que la integral es el area bajo una curva que se puede seccionar en partes, si nosotros vemos a la integral como la suma de esas secciones podemos tomar un apartado en donde la integral `func` sea aproximado a cada seccion. \n"
   ]
  },
  {
   "cell_type": "code",
   "execution_count": 4,
   "id": "d6433547",
   "metadata": {},
   "outputs": [
    {
     "data": {
      "text/plain": [
       "Fun_integrar (generic function with 1 method)"
      ]
     },
     "execution_count": 4,
     "metadata": {},
     "output_type": "execute_result"
    }
   ],
   "source": [
    "function Fun_integrar(func, a, b, n)#colocamos los parametros de la funcion. \n",
    "    \n",
    "    difx = (b-a)/n \n",
    "    \n",
    "    ad = 0.0             #Como previamente se analizo vamos a sumar secciones por lo que esta suma comienza en cero. \n",
    "    \n",
    "    for i = 1:n\n",
    "        y = a + (i - 0.5) * difx \n",
    "        \n",
    "     ad += func(y) * difx #Se sumaran las secciones en la cual se dividio el area bajo la curva.\n",
    "        \n",
    "    end \n",
    "    \n",
    "    return difx\n",
    "end \n",
    "    \n",
    "    "
   ]
  },
  {
   "cell_type": "code",
   "execution_count": 5,
   "id": "da170337",
   "metadata": {},
   "outputs": [
    {
     "name": "stdout",
     "output_type": "stream",
     "text": [
      "3.141592653589793e-7\n"
     ]
    }
   ],
   "source": [
    "f(x) = cos(x)\n",
    "a = 0.0 #partiendo de un origen.\n",
    "b = π\n",
    "n = 10000000\n",
    "\n",
    "resultado = Fun_integrar(f, a, b, n) #El resultado resulta ser dependiente de cuatro variables, tanto de los limites \n",
    "                                     #la funcion.\n",
    "  println(\"$resultado\")\n"
   ]
  }
 ],
 "metadata": {
  "kernelspec": {
   "display_name": "Julia 1.8.5",
   "language": "julia",
   "name": "julia-1.8"
  },
  "language_info": {
   "file_extension": ".jl",
   "mimetype": "application/julia",
   "name": "julia",
   "version": "1.8.5"
  }
 },
 "nbformat": 4,
 "nbformat_minor": 5
}
