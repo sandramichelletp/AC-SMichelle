{
 "cells": [
  {
   "cell_type": "markdown",
   "id": "1cfab9ab",
   "metadata": {},
   "source": [
    "2. Anade un parametro n a la funcion anterior que sirva para mejorar la precision de calculo, ¿que valor debe tomar n para que el calculo de la derivada anterior sea exacta en al menos 5 dıgitos? Justifica tu respuesta con codigo (**1 punto**).\n",
    "\n",
    "**Analisis**\n",
    "\n",
    "De acuerdo con lo que se nos pide es que a los parametros se le tiene que agregar otro llamado'n', para que la precision en el resultado de la derivada sea mayor, para esto podemos que considerar que cuando se tienen dos resultados cercanos y se dinide entre un numero determinado, el resultado sera mas preciso, esto es algo que comiensa con considerar la serie de Tylor que se utiliza para estimar los valores en para una funcion que si nos expandimos veremos que hay una forma detomar dos estimaciones numericas y juntarlas en una para obter mayor precision.\n",
    "\n",
    "Para esto podemos acercar a 'h' a un numero de menor magnitud esto para que se compare una estimacion con la 'h'a su mitad u otra escala, siendo que n sera en los valores en donde requerimos precision, vamos a poner n=5 ya que son los digitos que nos indican que requieren que sean exacta la derivada.\n",
    "\n",
    "Solo nos falta saber como relacionar las dos estimaciones en una tercera, para esto ocupamos la Extrapolacion de Richardson que parte de igual forma de la serie de tylor, su forma de relacion es `d= (4d2/3)- (di/3)`.\n",
    "\n",
    "**Nota**\n",
    "si se quiere saber mas de como se saco la formula de la extrapolacion de Richardson,puede consultar este link: https://www.youtube.com/watch?v=C03YCfUz9to\n"
   ]
  },
  {
   "cell_type": "code",
   "execution_count": 6,
   "id": "71f0696e",
   "metadata": {},
   "outputs": [
    {
     "data": {
      "text/plain": [
       "derivada_n (generic function with 2 methods)"
      ]
     },
     "execution_count": 6,
     "metadata": {},
     "output_type": "execute_result"
    }
   ],
   "source": [
    "function derivada_n(f, x, n, h = 0.0000001) #Definimos los parametros de la funcion, un que para que no marque errror\n",
    "                                           # de desvordamiento cambiamos los nombres.\n",
    "    \n",
    "    di = (f(x + h) - f(x))/h   #partiendo de la deinifinicion de la derivada.\n",
    "    \n",
    "      for i = 1              #integramos el parametro para empezar a determinar el valor de h en la segunda estimacion.\n",
    "        h /= 0.5             # h2 va ser la mitad de h1 por orden de derivada.\n",
    "        \n",
    "        d2 = ((f(x + h) - f(x))/h )\n",
    "        d = d= (4d2/3) - (di/3)    \n",
    "        \n",
    "    return d\n",
    "    end\n",
    "end"
   ]
  },
  {
   "cell_type": "markdown",
   "id": "48fdaf86",
   "metadata": {},
   "source": [
    "Para saber el valor de n, pues si necesitamos que almenos 5 numeros sean exactos en la derivada, podemos considerar a n igual a 5, ya que n esta actuando como una variable de precision."
   ]
  },
  {
   "cell_type": "code",
   "execution_count": 7,
   "id": "1c7e8527",
   "metadata": {},
   "outputs": [
    {
     "data": {
      "text/plain": [
       "-0.9092973794292785"
      ]
     },
     "execution_count": 7,
     "metadata": {},
     "output_type": "execute_result"
    }
   ],
   "source": [
    "f(x) = cos(x)\n",
    "x = 2.0\n",
    "n = 5\n",
    "  derivada_n(f,x,n)"
   ]
  }
 ],
 "metadata": {
  "kernelspec": {
   "display_name": "Julia 1.8.5",
   "language": "julia",
   "name": "julia-1.8"
  },
  "language_info": {
   "file_extension": ".jl",
   "mimetype": "application/julia",
   "name": "julia",
   "version": "1.8.5"
  }
 },
 "nbformat": 4,
 "nbformat_minor": 5
}
